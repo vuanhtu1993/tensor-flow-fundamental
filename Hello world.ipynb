{
 "cells": [
  {
   "cell_type": "code",
   "execution_count": null,
   "metadata": {
    "scrolled": false
   },
   "outputs": [
    {
     "ename": "SyntaxError",
     "evalue": "invalid syntax (<ipython-input-3-51c07df3eb4a>, line 2)",
     "traceback": [
      "\u001b[0;36m  File \u001b[0;32m\"<ipython-input-3-51c07df3eb4a>\"\u001b[0;36m, line \u001b[0;32m2\u001b[0m\n\u001b[0;31m    pip install tensorflow\u001b[0m\n\u001b[0m              ^\u001b[0m\n\u001b[0;31mSyntaxError\u001b[0m\u001b[0;31m:\u001b[0m invalid syntax\n"
     ],
     "output_type": "error"
    }
   ],
   "source": [
    "# install tensorflow\n",
    "pip install tensorflow"
   ]
  },
  {
   "cell_type": "code",
   "execution_count": 4,
   "metadata": {},
   "outputs": [
    {
     "data": {
      "text/plain": [
       "'1.13.1'"
      ]
     },
     "execution_count": 4,
     "metadata": {},
     "output_type": "execute_result"
    }
   ],
   "source": [
    "import tensorflow as tf\n",
    "\n",
    "tf.__version__"
   ]
  },
  {
   "cell_type": "markdown",
   "metadata": {},
   "source": [
    "### 1. Constant: is the value never changes\n"
   ]
  },
  {
   "cell_type": "code",
   "execution_count": 9,
   "metadata": {},
   "outputs": [
    {
     "name": "stdout",
     "output_type": "stream",
     "text": [
      "Tensor(\"const_x1_3:0\", shape=(3,), dtype=float32)\n"
     ]
    }
   ],
   "source": [
    "x1 = tf.constant([1, 1, 2], name='const_x1', dtype='float')\n",
    "print(x1)"
   ]
  },
  {
   "cell_type": "markdown",
   "metadata": {},
   "source": [
    "##### Node: \n",
    "Có thể hiểu TF là thư viện mô tả lại dòng chảy của dữ liệu thông qua graph, nên mỗi điểm giao cắt trong graph thì được gọi là Node. Node là nơi đại diện cho việc thay đổi của dữ liệu nên việc lưu trữ lại tham chiếu của các node này là rất quan trọng\n",
    "##### Tensor: \n",
    "Một điều quan trọng trong các bài toán ML là làm sao để máy tính hiểu được các tập dữ liệu đầu vào và đầu ra. Trong TF nguời ta quy định một kiểu dữ liệu mới gọi là tensor. \n",
    "* Các thuộc tính mô tả tensor gồm có:\n",
    "    1. `device`: Tên của thiết bị mà Tensor hiện tại sẽ được xuất bản. Có thể None. \n",
    "    2. `graph`: Đồ thị chứa Tensor hiện tại.\n",
    "    3. `name`: Tên của Tensor hiện tại.\n",
    "    4. `shape`: Trả về TensorShape mô tả lại Shape của Tensor hiện tại.\n",
    "    5. `op`: OperationToán tử / Phép toán được sử dụng để xuất bản Tensor hiện tại.\n",
    "    6. `dtype`: Kiểu của các elementsPhần tử trong Tensor hiện tại."
   ]
  },
  {
   "cell_type": "code",
   "execution_count": 10,
   "metadata": {},
   "outputs": [],
   "source": [
    "# Khởi tạo Session\n",
    "session = tf.Session()"
   ]
  },
  {
   "cell_type": "markdown",
   "metadata": {},
   "source": [
    "##### Session: Muốn thực hiện tính toán các tensor phải đưa vào session\n",
    "*"
   ]
  },
  {
   "cell_type": "code",
   "execution_count": 11,
   "metadata": {},
   "outputs": [
    {
     "data": {
      "text/plain": [
       "array([1., 1., 2.], dtype=float32)"
      ]
     },
     "execution_count": 11,
     "metadata": {},
     "output_type": "execute_result"
    }
   ],
   "source": [
    "session.run(x1)"
   ]
  },
  {
   "cell_type": "markdown",
   "metadata": {},
   "source": [
    "### 2. Các toán tử trong TF\n"
   ]
  },
  {
   "cell_type": "code",
   "execution_count": 14,
   "metadata": {},
   "outputs": [],
   "source": [
    "# Khởi tạo biến thứ 2:\n",
    "x2 = tf.constant([1, 1, 2], name='const_x2', dtype='float')"
   ]
  },
  {
   "cell_type": "code",
   "execution_count": 15,
   "metadata": {},
   "outputs": [
    {
     "name": "stdout",
     "output_type": "stream",
     "text": [
      "Tensor(\"add:0\", shape=(3,), dtype=float32)\n"
     ]
    }
   ],
   "source": [
    "# Tính tổng 2 tensor, chỉ đúng khi cùng dtype\n",
    "sum = x1 + x2;\n",
    "\n",
    "print(sum)"
   ]
  },
  {
   "cell_type": "markdown",
   "metadata": {},
   "source": [
    "### 3. Placeholder dùng để load dữ liệu đầu vào\n",
    "* Placeholder không có khởi tạo dữ liệu mà chỉ khởi tạo kiểu"
   ]
  },
  {
   "cell_type": "code",
   "execution_count": 18,
   "metadata": {},
   "outputs": [],
   "source": [
    "p1 = tf.placeholder(dtype=tf.float32)\n",
    "p2 = tf.placeholder(dtype=tf.float32)"
   ]
  },
  {
   "cell_type": "code",
   "execution_count": 20,
   "metadata": {},
   "outputs": [],
   "source": [
    "# Assigning the operators for placeholder\n",
    "o_add = p1 + p2\n",
    "o_subtract = p1 - p2"
   ]
  },
  {
   "cell_type": "code",
   "execution_count": 23,
   "metadata": {},
   "outputs": [],
   "source": [
    "# Feed data for placeholder\n",
    "f_values = {\n",
    "    p1: 10,\n",
    "    p2: 20\n",
    "}"
   ]
  },
  {
   "cell_type": "code",
   "execution_count": 24,
   "metadata": {},
   "outputs": [
    {
     "data": {
      "text/plain": [
       "30.0"
      ]
     },
     "execution_count": 24,
     "metadata": {},
     "output_type": "execute_result"
    }
   ],
   "source": [
    "# Caculate data for placeholder\n",
    "session.run(o_add, feed_dict=f_values)"
   ]
  },
  {
   "cell_type": "markdown",
   "metadata": {},
   "source": [
    "### 4. Variables\n",
    "Định nghĩa biến trong toàn bộ chương trình"
   ]
  },
  {
   "cell_type": "code",
   "execution_count": 27,
   "metadata": {},
   "outputs": [],
   "source": [
    "# Create variable\n",
    "var_1 = tf.Variable(name='var_1', initial_value=10)\n",
    "var_2 = tf.Variable(name='var_2', initial_value=20)"
   ]
  },
  {
   "cell_type": "code",
   "execution_count": 29,
   "metadata": {},
   "outputs": [],
   "source": [
    "# Initializer variable\n",
    "session.run(var_1.initializer)\n",
    "session.run(var_2.initializer)"
   ]
  },
  {
   "cell_type": "code",
   "execution_count": 31,
   "metadata": {},
   "outputs": [
    {
     "data": {
      "text/plain": [
       "10"
      ]
     },
     "execution_count": 31,
     "metadata": {},
     "output_type": "execute_result"
    }
   ],
   "source": [
    "# Calculate\n",
    "session.run(var_1)"
   ]
  },
  {
   "cell_type": "code",
   "execution_count": 33,
   "metadata": {},
   "outputs": [],
   "source": [
    "# Initializer global\n",
    "tf.global_variables_initializer().run(session=session)"
   ]
  },
  {
   "cell_type": "code",
   "execution_count": null,
   "metadata": {},
   "outputs": [],
   "source": []
  }
 ],
 "metadata": {
  "kernelspec": {
   "display_name": "Python 3",
   "language": "python",
   "name": "python3"
  },
  "language_info": {
   "codemirror_mode": {
    "name": "ipython",
    "version": 3
   },
   "file_extension": ".py",
   "mimetype": "text/x-python",
   "name": "python",
   "nbconvert_exporter": "python",
   "pygments_lexer": "ipython3",
   "version": "3.7.1"
  }
 },
 "nbformat": 4,
 "nbformat_minor": 2
}
