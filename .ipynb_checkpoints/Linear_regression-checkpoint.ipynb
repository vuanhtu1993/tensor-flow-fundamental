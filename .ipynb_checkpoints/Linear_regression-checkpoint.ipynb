{
 "cells": [
  {
   "cell_type": "code",
   "execution_count": 12,
   "metadata": {},
   "outputs": [],
   "source": [
    "import tensorflow as tf\n",
    "import numpy as np\n"
   ]
  },
  {
   "cell_type": "markdown",
   "metadata": {},
   "source": [
    "### 1. Hiều vè bài toán mình đang làm là dự đoán giá nhà\n",
    "\n",
    "### 2. Tiền sử lí dữ liệu: \n",
    "* 1. Loại bỏ bất thường (Remove outliers)\n",
    "* 2. Xử lí dữ liẹu bị thiếu (Missing data processing)\n",
    "* 3. Chuẩn hoá dữ liệu (Normalize)"
   ]
  },
  {
   "cell_type": "code",
   "execution_count": 7,
   "metadata": {},
   "outputs": [
    {
     "data": {
      "text/plain": [
       "array([[0.77730775, 0.56499208],\n",
       "       [0.4813826 , 0.19845963],\n",
       "       [0.791438  , 0.49726292],\n",
       "       ...,\n",
       "       [0.78862016, 0.94723921],\n",
       "       [0.2958157 , 0.37930708],\n",
       "       [0.76025064, 0.54187752]])"
      ]
     },
     "execution_count": 7,
     "metadata": {},
     "output_type": "execute_result"
    }
   ],
   "source": [
    "# Khoi tao du lieu dau vao\n",
    "X_data = np.random.random((10000, 2))\n",
    "\n",
    "# Print X_data\n",
    "X_data"
   ]
  },
  {
   "cell_type": "code",
   "execution_count": 9,
   "metadata": {},
   "outputs": [
    {
     "data": {
      "text/plain": [
       "array([[3],\n",
       "       [4]])"
      ]
     },
     "execution_count": 9,
     "metadata": {},
     "output_type": "execute_result"
    }
   ],
   "source": [
    "# Fake sample weight\n",
    "sample_weights = np.array([3, 4]).reshape(2, 1)\n",
    "\n",
    "sample_weights"
   ]
  },
  {
   "cell_type": "code",
   "execution_count": 10,
   "metadata": {},
   "outputs": [
    {
     "data": {
      "text/plain": [
       "array([[4.59189157],\n",
       "       [2.23798634],\n",
       "       [4.3633657 ],\n",
       "       ...,\n",
       "       [6.15481734],\n",
       "       [2.40467545],\n",
       "       [4.44826202]])"
      ]
     },
     "execution_count": 10,
     "metadata": {},
     "output_type": "execute_result"
    }
   ],
   "source": [
    "# Generate y_label\n",
    "y_data = np.matmul(X_data, sample_weights)\n",
    "\n",
    "y_data"
   ]
  },
  {
   "cell_type": "code",
   "execution_count": 11,
   "metadata": {},
   "outputs": [
    {
     "data": {
      "text/plain": [
       "array([[4.1104555 ],\n",
       "       [1.75655028],\n",
       "       [3.88192963],\n",
       "       ...,\n",
       "       [5.67338127],\n",
       "       [1.92323938],\n",
       "       [3.96682595]])"
      ]
     },
     "execution_count": 11,
     "metadata": {},
     "output_type": "execute_result"
    }
   ],
   "source": [
    "# Make y_label more approximate1\n",
    "y_data = np.add(y_data, np.random.uniform(-0.5, 0.5))\n",
    "\n",
    "y_data1"
   ]
  },
  {
   "cell_type": "code",
   "execution_count": 18,
   "metadata": {},
   "outputs": [],
   "source": [
    "# Seprate data into 2 part\n",
    "from sklearn.model_selection import train_test_split\n",
    "\n",
    "X_train, X_test, y_train, y_test = train_test_split(X_data, y_data, test_size=0.2, random_state=20)\n",
    "\n",
    "\n"
   ]
  },
  {
   "cell_type": "markdown",
   "metadata": {},
   "source": [
    "### 3. Trích chọn đặc trưng (Feature engineering)"
   ]
  },
  {
   "cell_type": "markdown",
   "metadata": {},
   "source": [
    "### 4. Selection Algorithm"
   ]
  },
  {
   "cell_type": "code",
   "execution_count": null,
   "metadata": {},
   "outputs": [],
   "source": []
  }
 ],
 "metadata": {
  "kernelspec": {
   "display_name": "Python 3",
   "language": "python",
   "name": "python3"
  },
  "language_info": {
   "codemirror_mode": {
    "name": "ipython",
    "version": 3
   },
   "file_extension": ".py",
   "mimetype": "text/x-python",
   "name": "python",
   "nbconvert_exporter": "python",
   "pygments_lexer": "ipython3",
   "version": "3.7.1"
  }
 },
 "nbformat": 4,
 "nbformat_minor": 2
}
